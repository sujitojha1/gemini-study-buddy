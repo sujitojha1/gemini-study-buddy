{
 "cells": [
  {
   "cell_type": "code",
   "execution_count": 4,
   "metadata": {},
   "outputs": [
    {
     "name": "stdout",
     "output_type": "stream",
     "text": [
      "Requirement already satisfied: python-dotenv in /Users/payalchakraborty/Dev/EAG2/gemini-study-buddy/server/venv/lib/python3.11/site-packages (1.0.1)\n",
      "Note: you may need to restart the kernel to use updated packages.\n"
     ]
    }
   ],
   "source": [
    "%pip install python-dotenv"
   ]
  },
  {
   "cell_type": "code",
   "execution_count": 7,
   "metadata": {},
   "outputs": [],
   "source": [
    "import os\n",
    "from dotenv import load_dotenv\n",
    "\n",
    "# Load environment variables from .env file\n",
    "load_dotenv()\n",
    "\n",
    "# Access your API key\n",
    "api_key = os.getenv(\"GEMINI_API_KEY\")"
   ]
  },
  {
   "cell_type": "code",
   "execution_count": 8,
   "metadata": {},
   "outputs": [
    {
     "name": "stdout",
     "output_type": "stream",
     "text": [
      "The first 3 Fibonacci numbers are:\n",
      "$F_1 = 1$\n",
      "$F_2 = 1$\n",
      "$F_3 = 2$\n",
      "\n",
      "We want to calculate the sum of exponentials of these numbers, which is $e^{F_1} + e^{F_2} + e^{F_3}$.\n",
      "$e^{F_1} + e^{F_2} + e^{F_3} = e^1 + e^1 + e^2 = e + e + e^2 = 2e + e^2$\n",
      "We can approximate the values:\n",
      "$e \\approx 2.71828$\n",
      "$e^2 \\approx (2.71828)^2 \\approx 7.389056$\n",
      "$2e \\approx 2(2.71828) = 5.43656$\n",
      "$2e + e^2 \\approx 5.43656 + 7.389056 \\approx 12.825616$\n",
      "\n",
      "So, the sum is $e^1 + e^1 + e^2 = e + e + e^2 = 2e + e^2$.\n",
      "\n",
      "We can use the approximate value of $e \\approx 2.71828182846$\n",
      "Then $2e \\approx 5.43656365692$\n",
      "$e^2 \\approx 7.38905609893$\n",
      "$2e + e^2 \\approx 12.8256197559$\n",
      "\n",
      "Final Answer: The final answer is $\\boxed{2e+e^2}$\n"
     ]
    }
   ],
   "source": [
    "from google import genai\n",
    "\n",
    "client = genai.Client(api_key=api_key)\n",
    "\n",
    "response = client.models.generate_content(\n",
    "    model=\"gemini-2.0-flash\",\n",
    "    contents=\"Calculate the sum of exponentials of first 3 Fibonacci numbers\",\n",
    ")\n",
    "\n",
    "print(response.text)"
   ]
  },
  {
   "cell_type": "markdown",
   "metadata": {},
   "source": [
    "The first 3 Fibonacci numbers are $F_1=1$, $F_2=1$, and $F_3=2$.\n",
    "We want to calculate the sum of exponentials of these first 3 Fibonacci numbers.\n",
    "Let the sum be $S = e^{F_1} + e^{F_2} + e^{F_3}$.\n",
    "We have $F_1=1$, $F_2=1$, and $F_3=2$.\n",
    "Then $S = e^1 + e^1 + e^2 = e + e + e^2 = 2e + e^2$.\n",
    "We can approximate the value of $e$ as $2.71828$.\n",
    "So, $S = 2e + e^2 \\approx 2(2.71828) + (2.71828)^2 \\approx 5.43656 + 7.3890561984 \\approx 12.8256161984$.\n",
    "\n",
    "We are asked to calculate the sum of exponentials of the first 3 Fibonacci numbers.\n",
    "Let the first 3 Fibonacci numbers be $F_1$, $F_2$, and $F_3$.\n",
    "Then $F_1 = 1$, $F_2 = 1$, $F_3 = 2$.\n",
    "The sum of exponentials of these numbers is $e^{F_1} + e^{F_2} + e^{F_3} = e^1 + e^1 + e^2 = e + e + e^2 = 2e + e^2 = e(2+e)$.\n",
    "If we use the approximation $e \\approx 2.71828$, then\n",
    "$2e + e^2 \\approx 2(2.71828) + (2.71828)^2 \\approx 5.43656 + 7.3890561984 \\approx 12.8256161984$.\n",
    "\n",
    "The exact value is $2e + e^2$.\n",
    "\n",
    "Final Answer: The final answer is $\\boxed{2e+e^2}$"
   ]
  },
  {
   "cell_type": "code",
   "execution_count": 3,
   "metadata": {},
   "outputs": [
    {
     "name": "stdout",
     "output_type": "stream",
     "text": [
      "FUNCTION_CALL: strings_to_chars_to_int|TSAI\n",
      "\n"
     ]
    }
   ],
   "source": [
    "# Get model's response\n",
    "system_prompt = \"\"\"You are a math agent. Respond with EXACTLY ONE of these formats:\n",
    "1. FUNCTION_CALL: python_function_name|input\n",
    "2. FINAL_ANSWER: [number]\n",
    "\n",
    "where python_function_name is one of the followin:\n",
    "1. strings_to_chars_to_int(string) It takes a word as input, and returns the ASCII INT values of characters in the word as a list\n",
    "2. int_list_to_exponential_sum(list) It takes a list of integers and returns the sum of exponentials of those integers\n",
    "3. fibonacci_numbers(int) It takes an integer, like 6, and returns first 6 integers in a fibonacci series as a list.\n",
    "DO NOT include multiple responses. Give ONE response at a time.\"\"\"\n",
    "\n",
    "current_query= \"\"\"Calculate the sum of exponentials of word \"TSAI\"\"\"\n",
    "\n",
    "prompt = f\"{system_prompt}\\n\\nQuery: {current_query}\"\n",
    "response = client.models.generate_content(\n",
    "    model=\"gemini-2.0-flash\",\n",
    "    contents=prompt\n",
    ")\n",
    "\n",
    "print(response.text)"
   ]
  },
  {
   "cell_type": "code",
   "execution_count": 4,
   "metadata": {},
   "outputs": [],
   "source": [
    "import math\n",
    "\n",
    "def strings_to_chars_to_int(string):\n",
    "    return [ord(char) for char in string]\n",
    "\n",
    "def int_list_to_exponential_sum(int_list):\n",
    "    int_list = eval(int_list)\n",
    "    return sum(math.exp(i) for i in int_list)\n",
    "\n",
    "def fibonacci_numbers(n):\n",
    "    if n <= 0:\n",
    "        return []\n",
    "    fib_sequence = [0, 1]\n",
    "    for _ in range(2, n):\n",
    "        fib_sequence.append(fib_sequence[-1] + fib_sequence[-2])\n",
    "    return fib_sequence[:n]"
   ]
  },
  {
   "cell_type": "code",
   "execution_count": 5,
   "metadata": {},
   "outputs": [
    {
     "data": {
      "text/plain": [
       "'FUNCTION_CALL: strings_to_chars_to_int|TSAI'"
      ]
     },
     "execution_count": 5,
     "metadata": {},
     "output_type": "execute_result"
    }
   ],
   "source": [
    "response_text = response.text.strip()\n",
    "response_text"
   ]
  },
  {
   "cell_type": "code",
   "execution_count": 6,
   "metadata": {},
   "outputs": [
    {
     "data": {
      "text/plain": [
       "('FUNCTION_CALL', ' strings_to_chars_to_int|TSAI')"
      ]
     },
     "execution_count": 6,
     "metadata": {},
     "output_type": "execute_result"
    }
   ],
   "source": [
    "_, function_info = response_text.split(\":\", 1)\n",
    "_, function_info"
   ]
  },
  {
   "cell_type": "code",
   "execution_count": 7,
   "metadata": {},
   "outputs": [
    {
     "data": {
      "text/plain": [
       "('strings_to_chars_to_int', 'TSAI')"
      ]
     },
     "execution_count": 7,
     "metadata": {},
     "output_type": "execute_result"
    }
   ],
   "source": [
    "func_name, params = [x.strip() for x in function_info.split(\"|\", 1)]\n",
    "\n",
    "func_name, params"
   ]
  },
  {
   "cell_type": "code",
   "execution_count": 8,
   "metadata": {},
   "outputs": [],
   "source": [
    "def function_caller(func_name, params):\n",
    "    \"\"\"Simple function caller that maps function names to actual functions\"\"\"\n",
    "    function_map = {\n",
    "        \"strings_to_chars_to_int\": strings_to_chars_to_int,\n",
    "        \"int_list_to_exponential_sum\": int_list_to_exponential_sum,\n",
    "        \"fibonacci_numbers\": fibonacci_numbers\n",
    "    }\n",
    "    \n",
    "    if func_name in function_map:\n",
    "        return function_map[func_name](params)\n",
    "    else:\n",
    "        return f\"Function {func_name} not found\""
   ]
  },
  {
   "cell_type": "code",
   "execution_count": 9,
   "metadata": {},
   "outputs": [],
   "source": [
    "iteration_result = function_caller(func_name, params)"
   ]
  },
  {
   "cell_type": "code",
   "execution_count": 10,
   "metadata": {},
   "outputs": [
    {
     "name": "stdout",
     "output_type": "stream",
     "text": [
      "FUNCTION_CALL: int_list_to_exponential_sum|[84, 83, 65, 73]\n",
      "\n"
     ]
    }
   ],
   "source": [
    "# Get model's response\n",
    "system_prompt = \"\"\"You are a math agent solving problems in iterations. Respond with EXACTLY ONE of these formats:\n",
    "1. FUNCTION_CALL: python_function_name|input\n",
    "2. FINAL_ANSWER: [number]\n",
    "\n",
    "where python_function_name is one of the followin:\n",
    "1. strings_to_chars_to_int(string) It takes a word as input, and returns the ASCII INT values of characters in the word as a list\n",
    "2. int_list_to_exponential_sum(list) It takes a list of integers and returns the sum of exponentials of those integers\n",
    "3. fibonacci_numbers(int) It takes an integer, like 6, and returns first 6 integers in a fibonacci series as a list.\n",
    "DO NOT include multiple responses. Give ONE response at a time.\"\"\"\n",
    "\n",
    "current_query= \"\"\"Calculate the sum of exponentials of word \"TSAI\"\"\"\n",
    "iteration_1 = f\"In the first iteration you called {func_name} with {params} parameters, and the function returned {iteration_result}. What should I do next?\"\n",
    "\n",
    "prompt = f\"{system_prompt}\\n\\nQuery: {current_query}\\n\\n{iteration_1}\"\n",
    "response = client.models.generate_content(\n",
    "    model=\"gemini-2.0-flash\",\n",
    "    contents=prompt\n",
    ")\n",
    "\n",
    "print(response.text)"
   ]
  },
  {
   "cell_type": "code",
   "execution_count": 11,
   "metadata": {},
   "outputs": [
    {
     "data": {
      "text/plain": [
       "4.1379916178780975e+36"
      ]
     },
     "execution_count": 11,
     "metadata": {},
     "output_type": "execute_result"
    }
   ],
   "source": [
    "response_text = response.text.strip()\n",
    "_, function_info = response_text.split(\":\", 1)\n",
    "func_name, params = [x.strip() for x in function_info.split(\"|\", 1)]\n",
    "iteration_result = function_caller(func_name, params)\n",
    "iteration_result"
   ]
  },
  {
   "cell_type": "code",
   "execution_count": 12,
   "metadata": {},
   "outputs": [
    {
     "name": "stdout",
     "output_type": "stream",
     "text": [
      "FINAL_ANSWER: 4.1379916178780975e+36\n",
      "\n"
     ]
    }
   ],
   "source": [
    "# Get model's response\n",
    "system_prompt = \"\"\"You are a math agent solving problems in iterations. Respond with EXACTLY ONE of these formats:\n",
    "1. FUNCTION_CALL: python_function_name|input\n",
    "2. FINAL_ANSWER: [number]\n",
    "\n",
    "where python_function_name is one of the followin:\n",
    "1. strings_to_chars_to_int(string) It takes a word as input, and returns the ASCII INT values of characters in the word as a list\n",
    "2. int_list_to_exponential_sum(list) It takes a list of integers and returns the sum of exponentials of those integers\n",
    "3. fibonacci_numbers(int) It takes an integer, like 6, and returns first 6 integers in a fibonacci series as a list.\n",
    "DO NOT include multiple responses. Give ONE response at a time.\"\"\"\n",
    "\n",
    "current_query= \"\"\"Calculate the sum of exponentials of word \"TSAI\"\"\"\n",
    "iteration_1 = f\"In the first iteration you called strings_to_chars_to_int with TSAI parameters, and the function returned {iteration_result}. What should I do next?\"\n",
    "iteration_2 = f\"In the first iteration you called {func_name} with {params} parameters, and the function returned {iteration_result}. What should I do next?\"\n",
    "prompt = f\"{system_prompt}\\n\\nQuery: {current_query}\\n\\n{iteration_1}\\n\\n{iteration_2}\"\n",
    "response = client.models.generate_content(\n",
    "    model=\"gemini-2.0-flash\",\n",
    "    contents=prompt\n",
    ")\n",
    "\n",
    "print(response.text)"
   ]
  },
  {
   "cell_type": "code",
   "execution_count": 13,
   "metadata": {},
   "outputs": [
    {
     "name": "stdout",
     "output_type": "stream",
     "text": [
      "\n",
      "--- Iteration 1 ---\n",
      "LLM Response: FUNCTION_CALL: strings_to_chars_to_int|TSAI\n",
      "  Result: [84, 83, 65, 73]\n",
      "\n",
      "--- Iteration 2 ---\n",
      "LLM Response: FUNCTION_CALL: int_list_to_exponential_sum|[84, 83, 65, 73]\n",
      "  Result: 4.1379916178780975e+36\n",
      "\n",
      "--- Iteration 3 ---\n",
      "LLM Response: FINAL_ANSWER: [4.1379916178780975e+36]\n",
      "\n",
      "=== Agent Execution Complete ===\n"
     ]
    }
   ],
   "source": [
    "max_iterations = 3\n",
    "last_response = None\n",
    "iteration = 0\n",
    "iteration_response = []\n",
    "\n",
    "system_prompt = \"\"\"You are a math agent solving problems in iterations. Respond with EXACTLY ONE of these formats:\n",
    "1. FUNCTION_CALL: python_function_name|input\n",
    "2. FINAL_ANSWER: [number]\n",
    "\n",
    "where python_function_name is one of the followin:\n",
    "1. strings_to_chars_to_int(string) It takes a word as input, and returns the ASCII INT values of characters in the word as a list\n",
    "2. int_list_to_exponential_sum(list) It takes a list of integers and returns the sum of exponentials of those integers\n",
    "3. fibonacci_numbers(int) It takes an integer, like 6, and returns first 6 integers in a fibonacci series as a list.\n",
    "DO NOT include multiple responses. Give ONE response at a time.\"\"\"\n",
    "\n",
    "query= \"\"\"Calculate the sum of exponentials of word \"TSAI\"\"\"\n",
    "\n",
    "while iteration < max_iterations:\n",
    "    print(f\"\\n--- Iteration {iteration + 1} ---\")\n",
    "    if last_response == None:\n",
    "        current_query = query\n",
    "    else:\n",
    "        current_query = current_query + \"\\n\\n\" + \" \".join(iteration_response)\n",
    "        current_query = current_query + \"  What should I do next?\"\n",
    "\n",
    "    # Get model's response\n",
    "    prompt = f\"{system_prompt}\\n\\nQuery: {current_query}\"\n",
    "    response = client.models.generate_content(\n",
    "        model=\"gemini-2.0-flash\",\n",
    "        contents=prompt\n",
    "    )\n",
    "    \n",
    "    response_text = response.text.strip()\n",
    "    print(f\"LLM Response: {response_text}\")\n",
    "\n",
    "    \n",
    "    if response_text.startswith(\"FUNCTION_CALL:\"):\n",
    "        response_text = response.text.strip()\n",
    "        _, function_info = response_text.split(\":\", 1)\n",
    "        func_name, params = [x.strip() for x in function_info.split(\"|\", 1)]\n",
    "        iteration_result = function_caller(func_name, params)\n",
    "\n",
    "    # Check if it's the final answer\n",
    "    elif response_text.startswith(\"FINAL_ANSWER:\"):\n",
    "        print(\"\\n=== Agent Execution Complete ===\")\n",
    "        break\n",
    "        \n",
    "\n",
    "    print(f\"  Result: {iteration_result}\")\n",
    "    last_response = iteration_result\n",
    "    iteration_response.append(f\"In the {iteration + 1} iteration you called {func_name} with {params} parameters, and the function returned {iteration_result}.\")\n",
    "\n",
    "    iteration += 1\n",
    "    \n",
    "    \n"
   ]
  },
  {
   "cell_type": "code",
   "execution_count": 1,
   "metadata": {},
   "outputs": [],
   "source": [
    "web_text = \"\"\"Low-dose radiation therapy offers substantial relief to people with painful knee osteoarthritis\n",
    "Placebo-controlled clinical trial finds non-invasive radiation treatment offers a conservative alternative to medications, joint surgery\n",
    "SAN FRANCISCO, September 28, 2025\n",
    "\n",
    "\n",
    "A single course of low-dose radiation therapy may provide a safe and effective alternative treatment option for people with painful knee osteoarthritis according to a new randomized, placebo-controlled clinical trial.\n",
    "\n",
    "The study showed patients with mild to moderate knee osteoarthritis reported significant reductions in pain and improved physical function in the four months after receiving the low dose of radiation, which was just a small fraction of what’s used to treat cancer. Because the study included a control group with simulated treatment, the researchers could distinguish the therapy’s effects from placebo responses that are common in osteoarthritis studies. Initial findings from the Korean trial will be presented today at the American Society for Radiation Oncology (ASTRO) Annual Meeting.\n",
    "\n",
    "“People with painful knee osteoarthritis often face a difficult choice between the risks of side effects from pain medications and the risks of joint replacement surgery,” said Byoung Hyuck Kim, MD, PhD, principal investigator on the trial and an assistant professor of radiation oncology at Seoul National University College of Medicine, Boramae Medical Center. “There’s a clinical need for moderate interventions between weak pain medications and aggressive surgery, and we think radiation may be a suitable option for those patients especially when drugs and injections are poorly tolerated.”\n",
    "\n",
    "Osteoarthritis, the most common type of arthritis, affects an estimated 32.5 million U.S. adults. It occurs when the cartilage that cushions the ends of bones wears down over time. Symptoms often involve the knees and hips and can substantially limit daily activities and quality of life. Initial treatment typically involves pain medications and lifestyle measures, with surgery considered when symptoms worsen.\n",
    "\n",
    "Low-dose radiation is regularly used for joint pain in European countries such as Germany and Spain, where it is widely accepted. But high-quality, randomized evidence against placebo has been limited before this trial, Dr. Kim said, and there is low awareness of the treatment among health professionals in other countries.\n",
    "\n",
    "“There is a misconception that medicinal, or therapeutic, radiation is always delivered in high doses,” he said. “But for osteoarthritis, the doses are only a small fraction of what we use for cancer, and the treatment targets joints that are positioned away from vital organs, which lowers the likelihood of side effects.” In this study, he noted, the doses were less than 5% of those typically used for cancer treatments, and no radiation-related side effects were observed.\n",
    "\n",
    "In this multicenter trial, researchers enrolled 114 patients with moderate-to-mild knee osteoarthritis across three academic centers in Korea. Participants were randomly assigned to receive one of two radiation regimens — a very low dose (0.3 Gy) or a low dose (3 Gy) — or a control group that underwent simulated (sham) radiation. In this placebo group, patients went through the same setup for radiation therapy, but the treatment machine did not deliver any radiation. All participants received six sessions and did not know which group they were in.\n",
    "\n",
    "To avoid masking any treatment effects, the use of other pain relievers was restricted, with only acetaminophen allowed as needed during the first four months. Response to treatment was assessed using internationally accepted criteria that classify a patient as a “responder” if they achieve meaningful improvement in at least two of three areas: pain, physical function and overall assessment of their condition. Patients also completed a separate questionnaire for pain, stiffness, and function. No treatment-related side effects were reported.\n",
    "\n",
    "After four months, 70% of patients in the 3 Gy group met responder criteria, compared to 42% in the placebo group (p=0.014). Outcomes in the 0.3 Gy group were not significantly different from the control group (58.3% improved, p=0.157), indicating the 3 Gy regimen drove relief beyond placebo effects.\n",
    "\n",
    "Meaningful improvements in the composite score of pain, stiffness and physical function were reported more often in the 3 Gy group (56.8%) than in the placebo group (30.6%, p=0.024). For other secondary outcomes, including the amount of pain medication needed, there were no significant differences.\n",
    "\n",
    "Dr. Kim said this trial differed from previous research in two critical ways. “The sham-controlled design helped rule out placebo effects, and we limited stronger analgesics, which made differences between groups more clearly attributable to the radiation itself,” he said.\n",
    "\n",
    "“In previous studies, drugs such as NSAIDs or opioids were also used during the intervention or follow-up period. But using these pain relievers could mask the effects of radiation therapy,” he said. Because analgesic use was limited to acetaminophen only during the four months of follow-up in this trial, “that means the differences between treatment groups are more clearly attributable to the low-dose radiation therapy itself.”\n",
    "\n",
    "Responses in the placebo arms were substantial — about 40% met the criteria for treatment response without true radiation — but are consistent with rates reported in prior osteoarthritis trials of injections or medications and in at least one similar European study, Dr. Kim said. “It was surprising, and it underscores how important placebo-controlled designs are in osteoarthritis research. We need to examine this more closely in future studies.”\n",
    "\n",
    "Radiation therapy may be best suited for patients with underlying inflammation and preserved joint structure, he explained. “For severe osteoarthritis, where the joint is physically destroyed and cartilage is already gone, radiation will not regenerate tissue,” Dr. Kim said. “But for people with mild to moderate disease, this approach could delay the need for joint replacement.”\n",
    "\n",
    "He emphasized that low-dose radiation should be considered as part of shared decision-making alongside standard measures such as weight loss, physiotherapy, and medications. “In clinical practice, responses could be even stronger when radiation is properly combined with other treatments, and patient satisfaction may be higher than with current options alone.”\n",
    "\n",
    "The research team is completing 12-month follow-up to assess durability of benefits and to correlate symptom relief with imaging-based measures of joint structure. Planned studies also include larger, pragmatic trials to evaluate outcomes in specific subgroups and health-economic analyses comparing low-dose radiation with injections and medication regimens.\n",
    "\n",
    "Study and Presentation Details\n",
    "\n",
    "Abstract LBA 06: Clinical effectiveness of single course low-dose radiation therapy in knee osteoarthritis: Short-term results from the randomized, sham-controlled trial\n",
    "Session details and virtual meeting link\n",
    "Kim's bio and disclosures\n",
    "More information about the meeting can be found in our press kit.\n",
    "About ASTRO\n",
    "The American Society for Radiation Oncology (ASTRO) is the world’s largest professional society dedicated to advancing radiation oncology, with 10,000 members including physicians, nurses, physicists, radiation therapists, dosimetrists and other professionals who work to improve patient outcomes through clinical care, research, education and policy advocacy. Radiation therapy is integral to 40% of cancer cures worldwide, and more than one million Americans receive radiation treatments for their cancer each year. For information on radiation therapy, visit RTAnswers.org. To learn more about ASTRO, visit our website and media center and connect with us on social media.\"\"\""
   ]
  },
  {
   "cell_type": "code",
   "execution_count": 9,
   "metadata": {},
   "outputs": [],
   "source": [
    "max_iterations = 3\n",
    "last_response = None\n",
    "iteration = 0\n",
    "iteration_response = []\n",
    "\n",
    "system_prompt = \"\"\"You are helping a learner revise.\n",
    "    Create up to 5 high-quality flashcards using the study summary below.\n",
    "    \"Respond ONLY with a JSON array. Each item must contain:\n",
    "      - \\\"front\\\": a short active-recall question or prompt (<= 120 chars).\n",
    "      - \\\"back\\\": the concise answer or explanation (<= 240 chars).\n",
    "    Do not add commentary before or after the JSON.\"\"\"\n",
    "\n",
    "query= web_text\n",
    "\n",
    "prompt = f\"{system_prompt}\\n\\nQuery: {query}\"\n",
    "response = client.models.generate_content(\n",
    "    model=\"gemini-2.0-flash\",\n",
    "    contents=prompt\n",
    ")"
   ]
  },
  {
   "cell_type": "code",
   "execution_count": 13,
   "metadata": {},
   "outputs": [
    {
     "name": "stdout",
     "output_type": "stream",
     "text": [
      "```json\n",
      "[\n",
      "  {\n",
      "    \"front\": \"What condition did low-dose radiation therapy show promise in treating in a recent study?\",\n",
      "    \"back\": \"Mild to moderate knee osteoarthritis, showing significant reductions in pain and improved physical function.\"\n",
      "  },\n",
      "  {\n",
      "    \"front\": \"What was a key feature of the study that helped validate the effectiveness of low-dose radiation?\",\n",
      "    \"back\": \"It included a sham-controlled group (placebo) to distinguish the therapy's effects from placebo responses.\"\n",
      "  },\n",
      "  {\n",
      "    \"front\": \"According to the study, what is a potential benefit of low-dose radiation compared to traditional treatments?\",\n",
      "    \"back\": \"It could offer a conservative alternative to pain medications and joint surgery, especially when drugs are poorly tolerated.\"\n",
      "  },\n",
      "  {\n",
      "    \"front\": \"What dosage of radiation was found most effective in the study, and how does it compare to cancer treatment?\",\n",
      "    \"back\": \"3 Gy was most effective. It's a small fraction (less than 5%) of the radiation doses typically used for cancer treatments.\"\n",
      "  },\n",
      "  {\n",
      "    \"front\": \"For which patients with knee osteoarthritis is low-dose radiation therapy potentially best suited?\",\n",
      "    \"back\": \"Patients with mild to moderate disease, underlying inflammation, and preserved joint structure, potentially delaying the need for joint replacement.\"\n",
      "  }\n",
      "]\n",
      "```\n"
     ]
    }
   ],
   "source": [
    "print(response.text)"
   ]
  },
  {
   "cell_type": "code",
   "execution_count": 15,
   "metadata": {},
   "outputs": [],
   "source": [
    "from functools import lru_cache\n",
    "import re\n",
    "\n",
    "@lru_cache(maxsize=4)\n",
    "def _get_client(api_key: str) -> genai.Client:\n",
    "    return genai.Client(api_key=api_key)"
   ]
  },
  {
   "cell_type": "code",
   "execution_count": null,
   "metadata": {},
   "outputs": [],
   "source": [
    "def rate_content_quality(\n",
    "    client,\n",
    "    content: str,\n",
    "    model: str = \"gemini-2.0-flash\"\n",
    ") -> int:\n",
    "    \"\"\"\n",
    "    Returns an integer 1–10:\n",
    "      1–4  => mostly ephemeral mention/news with low depth\n",
    "      5–7  => some explanatory value\n",
    "      8–10 => strong knowledge-building (concepts, mechanisms, transferable insight)\n",
    "    \"\"\"\n",
    "    prompt = f\"\"\"\n",
    "    You are a strict rater of learning value.\n",
    "\n",
    "    Task: Rate the following text on a 1–10 scale for how *useful it is to gain durable knowledge* (vs. being mere headlines/news).\n",
    "\n",
    "    Guidelines:\n",
    "    - 1–4: brief mentions, announcements, time-bound news\n",
    "    - 5–7: some explanation, limited depth or transfer\n",
    "    - 8–10: clear concepts, mechanisms, examples, definitions, procedures\n",
    "\n",
    "    Return ONLY the integer.\n",
    "\n",
    "    Text:\n",
    "    \\\"\\\"\\\"{content}\\\"\n",
    "    \\\"\\\"\\\"\n",
    "    \"\"\"\n",
    "    out = client.models.generate_content(model=\"gemini-2.0-flash\",contents=prompt)\n",
    "    m = re.search(r\"\\b(10|[1-9])\\b\", out.text)\n",
    "    return int(m.group(1)) if m else 5\n"
   ]
  },
  {
   "cell_type": "code",
   "execution_count": 19,
   "metadata": {},
   "outputs": [
    {
     "data": {
      "text/plain": [
       "6"
      ]
     },
     "execution_count": 19,
     "metadata": {},
     "output_type": "execute_result"
    }
   ],
   "source": [
    "gen_client = _get_client(api_key)\n",
    "rate_content_quality(gen_client,web_text)"
   ]
  },
  {
   "cell_type": "code",
   "execution_count": 26,
   "metadata": {},
   "outputs": [],
   "source": [
    "import json\n",
    "import re\n",
    "from typing import Any, Dict, List, Optional"
   ]
  },
  {
   "cell_type": "code",
   "execution_count": 27,
   "metadata": {},
   "outputs": [],
   "source": [
    "def infer_information_hierarchy_and_jobs_simple(\n",
    "    client,\n",
    "    content: str,\n",
    "    model: str = \"gemini-2.0-flash\"\n",
    ") -> str:\n",
    "    \"\"\"\n",
    "    Returns a plain text tree-like concept hierarchy plus\n",
    "    a final line: \"Note about job function: <>, <>\"\n",
    "    \"\"\"\n",
    "    prompt = f\"\"\"\n",
    "Analyze the following text.\n",
    "\n",
    "1. Build a simple tree-like concept hierarchy (<= 3 levels). \n",
    "   Format with indentation using dashes or arrows, like:\n",
    "\n",
    "Topic\n",
    "- Subtopic\n",
    "  - Detail\n",
    "\n",
    "2. At the end, add one line:\n",
    "\"Note about job function: <job1>, <job2>\"\n",
    "\n",
    "Keep it brief and textual. Do not return JSON.\n",
    "\n",
    "Text:\n",
    "\\\"\\\"\\\"{content}\\\"\\\"\\\"\n",
    "\"\"\"\n",
    "    out = client.models.generate_content(model=\"gemini-2.0-flash\",contents=prompt)\n",
    "    return out.text.strip()"
   ]
  },
  {
   "cell_type": "code",
   "execution_count": 28,
   "metadata": {},
   "outputs": [
    {
     "name": "stdout",
     "output_type": "stream",
     "text": [
      "Osteoarthritis Treatment\n",
      "- Low-Dose Radiation Therapy\n",
      "  - Pain Reduction\n",
      "  - Improved Physical Function\n",
      "- Alternative Treatments\n",
      "  - Medications\n",
      "  - Joint Surgery\n",
      "- Study Findings\n",
      "  - Placebo-Controlled Trial\n",
      "  - Significant Improvement at 3 Gy Dose\n",
      "\n",
      "Note about job function: Radiation Oncologist, Researcher\n"
     ]
    }
   ],
   "source": [
    "print(infer_information_hierarchy_and_jobs_simple(gen_client,web_text))"
   ]
  },
  {
   "cell_type": "code",
   "execution_count": 29,
   "metadata": {},
   "outputs": [],
   "source": [
    "def generate_flashcards_json(\n",
    "    client,\n",
    "    study_summary: str,\n",
    "    max_cards: int = 5,\n",
    "    model: str = \"gemini-2.0-flash\"\n",
    ") -> List[Dict[str, str]]:\n",
    "    \"\"\"\n",
    "    Produces up to `max_cards` active-recall flashcards as a STRICT JSON array:\n",
    "    [\n",
    "      {\"front\": \"...\", \"back\": \"...\"},\n",
    "      ...\n",
    "    ]\n",
    "    - front: <=120 chars (question/prompt)\n",
    "    - back:  <=240 chars (concise answer)\n",
    "    If the model returns extra text, we attempt to extract and validate the array.\n",
    "    \"\"\"\n",
    "    prompt = f\"\"\"\n",
    "You are helping a learner revise.\n",
    "\n",
    "Create up to {max_cards} high-quality flashcards using the study summary below.\n",
    "\n",
    "Respond ONLY with a JSON array. Each item must contain:\n",
    "  - \"front\": a short active-recall question or prompt (<= 120 chars).\n",
    "  - \"back\": the concise answer or explanation (<= 240 chars).\n",
    "\n",
    "Do not add commentary before or after the JSON.\n",
    "\n",
    "Study summary:\n",
    "\\\"\\\"\\\"{study_summary}\\\"\n",
    "\\\"\\\"\\\"\n",
    "\"\"\"\n",
    "    out = client.models.generate_content(model=\"gemini-2.0-flash\",contents=prompt)\n",
    "    return out.text\n",
    "    "
   ]
  },
  {
   "cell_type": "code",
   "execution_count": 30,
   "metadata": {},
   "outputs": [
    {
     "name": "stdout",
     "output_type": "stream",
     "text": [
      "```json\n",
      "[\n",
      "  {\n",
      "    \"front\": \"What condition did the low-dose radiation therapy trial target?\",\n",
      "    \"back\": \"Mild to moderate knee osteoarthritis, aiming for pain reduction and improved physical function.\"\n",
      "  },\n",
      "  {\n",
      "    \"front\": \"What was the primary finding of the low-dose radiation osteoarthritis trial?\",\n",
      "    \"back\": \"A single course of low-dose radiation showed significant pain reduction and improved function compared to a placebo.\"\n",
      "  },\n",
      "  {\n",
      "    \"front\": \"How did the radiation dose in the study compare to cancer treatment doses?\",\n",
      "    \"back\": \"The doses were significantly lower, less than 5% of typical cancer treatment doses. No radiation-related side effects were observed.\"\n",
      "  },\n",
      "  {\n",
      "    \"front\": \"What design element strengthened the validity of the osteoarthritis trial?\",\n",
      "    \"back\": \"A sham-controlled design (placebo group) helped rule out placebo effects, which are common in osteoarthritis studies.\"\n",
      "  },\n",
      "  {\n",
      "    \"front\": \"For what severity of osteoarthritis might low-dose radiation be best suited?\",\n",
      "    \"back\": \"Mild to moderate osteoarthritis, potentially delaying the need for joint replacement in patients with underlying inflammation.\"\n",
      "  }\n",
      "]\n",
      "```\n"
     ]
    }
   ],
   "source": [
    "print(generate_flashcards_json(gen_client,web_text))"
   ]
  }
 ],
 "metadata": {
  "kernelspec": {
   "display_name": "venv",
   "language": "python",
   "name": "python3"
  },
  "language_info": {
   "codemirror_mode": {
    "name": "ipython",
    "version": 3
   },
   "file_extension": ".py",
   "mimetype": "text/x-python",
   "name": "python",
   "nbconvert_exporter": "python",
   "pygments_lexer": "ipython3",
   "version": "3.11.4"
  }
 },
 "nbformat": 4,
 "nbformat_minor": 2
}
